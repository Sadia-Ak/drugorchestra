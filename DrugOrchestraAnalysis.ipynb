{
 "cells": [
  {
   "cell_type": "code",
   "execution_count": 16,
   "id": "765485d8",
   "metadata": {},
   "outputs": [],
   "source": [
    "import numpy as np\n",
    "import matplotlib as plt\n",
    "from sklearn.naive_bayes import GaussianNB\n",
    "from sklearn.model_selection import KFold\n",
    "from sklearn.linear_model import LinearRegression\n",
    "from sklearn.metrics import accuracy_score, roc_auc_score\n",
    "from sklearn.metrics import mean_squared_error\n",
    "from sklearn.decomposition import PCA"
   ]
  },
  {
   "cell_type": "code",
   "execution_count": 13,
   "id": "e0200bf2",
   "metadata": {},
   "outputs": [],
   "source": [
    "ccle = np.load(\"ccle/data.npy\")"
   ]
  },
  {
   "cell_type": "code",
   "execution_count": 5,
   "id": "5d8d1cd6",
   "metadata": {},
   "outputs": [],
   "source": [
    "drugbank = np.load(\"drugbank/data.npy\")"
   ]
  },
  {
   "cell_type": "code",
   "execution_count": 14,
   "id": "a857d467",
   "metadata": {},
   "outputs": [],
   "source": [
    "gdsc = np.load(\"gdsc/data.npy\")"
   ]
  },
  {
   "cell_type": "code",
   "execution_count": 9,
   "id": "bd85ce94",
   "metadata": {},
   "outputs": [],
   "source": [
    "offside = np.load(\"offside/data.npy\")"
   ]
  },
  {
   "cell_type": "code",
   "execution_count": 15,
   "id": "4f974e32",
   "metadata": {},
   "outputs": [],
   "source": [
    "pdx = np.load(\"pdx/data.npy\")"
   ]
  },
  {
   "cell_type": "code",
   "execution_count": 7,
   "id": "fb1f9aa1",
   "metadata": {},
   "outputs": [],
   "source": [
    "repurposing_hub = np.load(\"repurposing_hub/data.npy\")"
   ]
  },
  {
   "cell_type": "code",
   "execution_count": 3,
   "id": "56e723d2",
   "metadata": {},
   "outputs": [],
   "source": [
    "sider = np.load(\"sider/data.npy\")"
   ]
  },
  {
   "cell_type": "code",
   "execution_count": 2,
   "id": "0de9d3be",
   "metadata": {},
   "outputs": [],
   "source": [
    "stitch = np.load(\"stitch/data_900.npy\").astype(np.uint16)"
   ]
  },
  {
   "cell_type": "code",
   "execution_count": 8,
   "id": "2f4aa301",
   "metadata": {},
   "outputs": [],
   "source": [
    "#drugbankY = drugbank[:, -1] #classification\n",
    "#offsideY = offside[:, -1] #classification\n",
    "repurposing_hubY = repurposing_hub[:, -1] #classification\n",
    "#siderY = sider[:, -1] #classification\n",
    "#stitchY = stitch[:, -1] #classification"
   ]
  },
  {
   "cell_type": "code",
   "execution_count": 9,
   "id": "d15cb1c0",
   "metadata": {},
   "outputs": [],
   "source": [
    "#drugbank = drugbank[:, :-1]\n",
    "#offside = offside[:, :-1]\n",
    "repurposing_hub = repurposing_hub[:, :-1]\n",
    "#sider = sider[:, :-1]\n",
    "#stitch = stitch[:, :-1]"
   ]
  },
  {
   "cell_type": "code",
   "execution_count": 11,
   "id": "64e2659f",
   "metadata": {},
   "outputs": [
    {
     "name": "stdout",
     "output_type": "stream",
     "text": [
      "[ 1.  1.  1. ... -1. -1. -1.]\n"
     ]
    }
   ],
   "source": [
    "print(repurposing_hubY)"
   ]
  },
  {
   "cell_type": "code",
   "execution_count": 21,
   "id": "46fa2a9d",
   "metadata": {},
   "outputs": [],
   "source": [
    "def analysis(X, y):\n",
    "    kf = KFold(n_splits=3, shuffle=True, random_state=42)\n",
    "    nb_class = GaussianNB()\n",
    "    accuracies = []\n",
    "    auroc_scores = []\n",
    "    \n",
    "    for train_index, test_index in kf.split(X):\n",
    "        X_train, X_test = X[train_index], X[test_index]\n",
    "        y_train, y_test = y[train_index], y[test_index]\n",
    "        \n",
    "        n_components = min(X_train.shape[1], 693)\n",
    "        pca = PCA(n_components = n_components)\n",
    "        \n",
    "        X_train_pca = pca.fit_transform(X_train)\n",
    "        X_test_pca = pca.fit_transform(X_test)\n",
    "        \n",
    "        \n",
    "        nb_class.fit(X_train_pca, y_train)\n",
    "        \n",
    "        y_pred = nb_class.predict(X_test_pca)\n",
    "        \n",
    "        accuracy = accuracy_score(y_test, y_pred)\n",
    "        accuracies.append(accuracy)\n",
    "        \n",
    "        y_proba = nb_class.predict_proba(X_test_pca)[:, 1]\n",
    "        auroc = roc_auc_score(y_test, y_proba)\n",
    "        auroc_scores.append(auroc)\n",
    "        \n",
    "    for fold, (accuracy, auroc) in enumerate(zip(accuracies, auroc_scores), start=1):\n",
    "        print(f\"Fold {fold}: Accuracy = {accuracy: .4f}, AUROC = {auroc: .4f}\")\n",
    "        \n",
    "    average_accuracy = np.mean(accuracies)\n",
    "    average_auroc = np.mean(auroc_scores)\n",
    "    print(\"\\nAverage Accuracy:\", average_accuracy)\n",
    "    print(\"Average AUROC Score:\", average_auroc)\n",
    "        "
   ]
  },
  {
   "cell_type": "code",
   "execution_count": 16,
   "id": "c85ef179",
   "metadata": {},
   "outputs": [
    {
     "name": "stdout",
     "output_type": "stream",
     "text": [
      "Fold 1: Accuracy =  0.6511, AUROC =  0.6902\n",
      "Fold 2: Accuracy =  0.6463, AUROC =  0.6821\n",
      "Fold 3: Accuracy =  0.6468, AUROC =  0.6796\n",
      "\n",
      "Average Accuracy: 0.6480420248328559\n",
      "Average AUROC Score: 0.6839863557728231\n"
     ]
    }
   ],
   "source": [
    "analysis(drugbank, drugbankY)"
   ]
  },
  {
   "cell_type": "code",
   "execution_count": 8,
   "id": "8df344e6",
   "metadata": {},
   "outputs": [
    {
     "name": "stdout",
     "output_type": "stream",
     "text": [
      "Fold 1: Accuracy =  0.7048, AUROC =  0.6452\n",
      "Fold 2: Accuracy =  0.6940, AUROC =  0.6456\n",
      "Fold 3: Accuracy =  0.6969, AUROC =  0.6384\n",
      "\n",
      "Average Accuracy: 0.6985530827593273\n",
      "Average AUROC Score: 0.64303661139092\n"
     ]
    }
   ],
   "source": [
    "analysis(offside, offsideY)"
   ]
  },
  {
   "cell_type": "code",
   "execution_count": 7,
   "id": "4a9f9cc2",
   "metadata": {},
   "outputs": [
    {
     "name": "stdout",
     "output_type": "stream",
     "text": [
      "Fold 1: Accuracy =  0.8257, AUROC =  0.6653\n",
      "Fold 2: Accuracy =  0.8309, AUROC =  0.6690\n",
      "Fold 3: Accuracy =  0.8452, AUROC =  0.6337\n",
      "\n",
      "Average Accuracy: 0.8339231593909778\n",
      "Average AUROC Score: 0.6559913959687306\n"
     ]
    }
   ],
   "source": [
    "analysis(sider, siderY)"
   ]
  },
  {
   "cell_type": "code",
   "execution_count": 6,
   "id": "259261ed",
   "metadata": {},
   "outputs": [
    {
     "name": "stdout",
     "output_type": "stream",
     "text": [
      "Fold 1: Accuracy =  0.1031, AUROC =  0.5215\n",
      "Fold 2: Accuracy =  0.1229, AUROC =  0.5224\n",
      "Fold 3: Accuracy =  0.1246, AUROC =  0.5210\n",
      "\n",
      "Average Accuracy: 0.11686472915740354\n",
      "Average AUROC Score: 0.5216583301832992\n"
     ]
    }
   ],
   "source": [
    "analysis(stitch, stitchY)"
   ]
  },
  {
   "cell_type": "code",
   "execution_count": 12,
   "id": "bc8b769c",
   "metadata": {},
   "outputs": [
    {
     "name": "stdout",
     "output_type": "stream",
     "text": [
      "Fold 1: Accuracy =  0.6150, AUROC =  0.6350\n",
      "Fold 2: Accuracy =  0.6114, AUROC =  0.6309\n",
      "Fold 3: Accuracy =  0.6124, AUROC =  0.6369\n",
      "\n",
      "Average Accuracy: 0.6129231214914874\n",
      "Average AUROC Score: 0.6342812642101564\n"
     ]
    }
   ],
   "source": [
    "analysis(repurposing_hub, repurposing_hubY)"
   ]
  },
  {
   "cell_type": "code",
   "execution_count": 24,
   "id": "9e3d0447",
   "metadata": {},
   "outputs": [],
   "source": [
    "def linAnalysis(X):\n",
    "    kf = KFold(n_splits=3, shuffle=True, random_state=42)\n",
    "    rmse_scores = []\n",
    "    accuracy_scores = []\n",
    "    \n",
    "    for i, (train_index, test_index) in enumerate(kf.split(X), 1):\n",
    "        X_train, X_test = X[train_index], X[test_index]\n",
    "\n",
    "        pca = PCA(n_components=2)\n",
    "        X_train_pca = pca.fit_transform(X_train)\n",
    "        X_test_pca = pca.transform(X_test)\n",
    "\n",
    "        model = LinearRegression()\n",
    "        model.fit(X_train_pca, X_train)\n",
    "\n",
    "        y_pred = model.predict(X_test_pca)\n",
    "        rmse = np.sqrt(mean_squared_error(X_test, y_pred))\n",
    "        rmse_scores.append(rmse)\n",
    "\n",
    "        print(f\"Fold {i}: RMSE = {rmse}\")\n",
    "        \n",
    "    average_rmse = np.mean(rmse_scores)\n",
    "    print(\"Average RMSE Score:\", average_rmse)"
   ]
  },
  {
   "cell_type": "code",
   "execution_count": 25,
   "id": "ecfc4c73",
   "metadata": {},
   "outputs": [
    {
     "name": "stdout",
     "output_type": "stream",
     "text": [
      "Fold 1: RMSE = 0.707691653388026\n",
      "Fold 2: RMSE = 0.7085340525038896\n",
      "Fold 3: RMSE = 0.7080955176375918\n",
      "Average RMSE Score: 0.7081070745098357\n"
     ]
    }
   ],
   "source": [
    "linAnalysis(ccle)"
   ]
  },
  {
   "cell_type": "code",
   "execution_count": 26,
   "id": "a05d6454",
   "metadata": {},
   "outputs": [
    {
     "name": "stdout",
     "output_type": "stream",
     "text": [
      "Fold 1: RMSE = 0.6920392372124256\n",
      "Fold 2: RMSE = 0.6888561005385097\n",
      "Fold 3: RMSE = 0.6974736223839395\n",
      "Average RMSE Score: 0.6927896533782917\n"
     ]
    }
   ],
   "source": [
    "linAnalysis(pdx)"
   ]
  },
  {
   "cell_type": "code",
   "execution_count": 27,
   "id": "68fa128f",
   "metadata": {},
   "outputs": [
    {
     "name": "stdout",
     "output_type": "stream",
     "text": [
      "Fold 1: RMSE = 0.7108343977841044\n",
      "Fold 2: RMSE = 0.710914804517822\n",
      "Fold 3: RMSE = 0.7111724840323289\n",
      "Average RMSE Score: 0.7109738954447518\n"
     ]
    }
   ],
   "source": [
    "linAnalysis(gdsc)"
   ]
  },
  {
   "cell_type": "code",
   "execution_count": null,
   "id": "f006492c",
   "metadata": {},
   "outputs": [],
   "source": []
  }
 ],
 "metadata": {
  "kernelspec": {
   "display_name": "Python 3 (ipykernel)",
   "language": "python",
   "name": "python3"
  },
  "language_info": {
   "codemirror_mode": {
    "name": "ipython",
    "version": 3
   },
   "file_extension": ".py",
   "mimetype": "text/x-python",
   "name": "python",
   "nbconvert_exporter": "python",
   "pygments_lexer": "ipython3",
   "version": "3.11.4"
  }
 },
 "nbformat": 4,
 "nbformat_minor": 5
}
